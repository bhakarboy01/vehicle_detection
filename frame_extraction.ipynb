{
 "cells": [
  {
   "cell_type": "code",
   "execution_count": 1,
   "id": "29025edc-ea31-46a7-90b4-b57c091dd7ca",
   "metadata": {},
   "outputs": [
    {
     "name": "stdout",
     "output_type": "stream",
     "text": [
      "Requirement already satisfied: opencv-python in c:\\users\\heman\\anaconda3\\lib\\site-packages (4.11.0.86)\n",
      "Requirement already satisfied: numpy>=1.21.2 in c:\\users\\heman\\anaconda3\\lib\\site-packages (from opencv-python) (1.26.4)\n"
     ]
    }
   ],
   "source": [
    "!pip install opencv-python"
   ]
  },
  {
   "cell_type": "code",
   "execution_count": 2,
   "id": "51431e4e-4e9e-4d8e-aa22-eea519917d14",
   "metadata": {},
   "outputs": [],
   "source": [
    "import cv2\n",
    "import time\n",
    "import os"
   ]
  },
  {
   "cell_type": "code",
   "execution_count": 3,
   "id": "9d43eb13-d659-4bb5-ad89-7bf62a20f438",
   "metadata": {},
   "outputs": [],
   "source": [
    "video_path = \"Copy of dac (67).mp4\"\n",
    "output_folder = \"frame\"\n",
    "os.makedirs(output_folder, exist_ok=True)  # Creates folder \"frame\" if it doesn't exist\n",
    "\n",
    "cap = cv2.VideoCapture(video_path)\n",
    "i = 0\n",
    "frame_skip = 6\n",
    "frame_count = 0\n",
    "\n",
    "while cap.isOpened():\n",
    "    ret, frame = cap.read()\n",
    "    if not ret:\n",
    "        break\n",
    "\n",
    "    if i >= frame_skip - 1:  # Save frame after skipping 'frame_skip' frames\n",
    "        frame_count += 1\n",
    "        cv2.imwrite(os.path.join(output_folder, f\"frame_{frame_count}.jpg\"), frame)\n",
    "        i = 0  # Reset counter after saving a frame\n",
    "    else:\n",
    "        i += 1  # Increment i to keep track of skipped frames\n",
    "\n",
    "cap.release()\n",
    "cv2.destroyAllWindows()"
   ]
  },
  {
   "cell_type": "code",
   "execution_count": 9,
   "id": "bbcb922b-03f3-4f23-852a-1b7be79bb0ff",
   "metadata": {},
   "outputs": [
    {
     "data": {
      "text/plain": [
       "<function destroyAllWindows>"
      ]
     },
     "execution_count": 9,
     "metadata": {},
     "output_type": "execute_result"
    }
   ],
   "source": [
    "cap = cv2.VideoCapture(\"project video annotate/Copy of dac (67).mp4\")\n",
    "i=0\n",
    "frame_skip = 6\n",
    "frame_count = 0\n",
    "while cap.isOpened():\n",
    "    ret,frame = cap.read()\n",
    "    if not ret:\n",
    "        break\n",
    "    if i>frame_skip - 1:\n",
    "        frame_count+=1\n",
    "        cv2.imwrite('project video annotate/FRAME'+'frame_'+str(frame_count)+'.jpg', frame)\n",
    "        i = 0\n",
    "        continue\n",
    "        i+=1\n",
    "cap.release()\n",
    "cv2.destroyAllWindows"
   ]
  },
  {
   "cell_type": "code",
   "execution_count": 6,
   "id": "3b8f12aa-068f-4047-a21a-2bc6367bb5d3",
   "metadata": {},
   "outputs": [
    {
     "name": "stdout",
     "output_type": "stream",
     "text": [
      "Extracted 850 frames at intervals of 6 frames.\n"
     ]
    }
   ],
   "source": [
    "video_path = \"Copy of dac (67).mp4\"\n",
    "output_folder = \"extracted_frames\"\n",
    "os.makedirs(output_folder, exist_ok=True)  # Create folder \"extracted_frames\" if it doesn't exist\n",
    "\n",
    "cap = cv2.VideoCapture(video_path)\n",
    "\n",
    "# Check if the video was opened successfully\n",
    "if not cap.isOpened():\n",
    "    print(\"Error: Could not open video.\")\n",
    "    exit()\n",
    "\n",
    "frame_skip = 6  # Extract every 6th frame\n",
    "frame_count = 0\n",
    "saved_frame_count = 0\n",
    "\n",
    "while True:\n",
    "    ret, frame = cap.read()\n",
    "    if not ret:\n",
    "        break \n",
    "\n",
    "    if frame_count % frame_skip == 0:  # Save every 6th frame\n",
    "        frame_filename = os.path.join(output_folder, f\"frame_{saved_frame_count: 05d}.jpg\")\n",
    "        cv2.imwrite(frame_filename, frame)\n",
    "        saved_frame_count += 1\n",
    "\n",
    "    frame_count += 1 \n",
    "\n",
    "cap.release()\n",
    "cv2.destroyAllWindows()\n",
    "\n",
    "print(f\"Extracted {saved_frame_count} frames at intervals of {frame_skip} frames.\")"
   ]
  },
  {
   "cell_type": "code",
   "execution_count": 2,
   "id": "0c1f4993-0a74-4240-93f9-24f530ee8072",
   "metadata": {},
   "outputs": [
    {
     "name": "stdout",
     "output_type": "stream",
     "text": [
      "Collecting labelImg\n",
      "  Downloading labelImg-1.8.6.tar.gz (247 kB)\n",
      "  Preparing metadata (setup.py): started\n",
      "  Preparing metadata (setup.py): finished with status 'done'\n",
      "Requirement already satisfied: pyqt5 in c:\\users\\heman\\anaconda3\\lib\\site-packages (from labelImg) (5.15.10)\n",
      "Requirement already satisfied: lxml in c:\\users\\heman\\anaconda3\\lib\\site-packages (from labelImg) (5.2.1)\n",
      "Requirement already satisfied: PyQt5-sip<13,>=12.13 in c:\\users\\heman\\anaconda3\\lib\\site-packages (from pyqt5->labelImg) (12.13.0)\n",
      "Building wheels for collected packages: labelImg\n",
      "  Building wheel for labelImg (setup.py): started\n",
      "  Building wheel for labelImg (setup.py): finished with status 'done'\n",
      "  Created wheel for labelImg: filename=labelImg-1.8.6-py2.py3-none-any.whl size=261580 sha256=efab3686ea3c69d44fd47df7150b11b7f1bc79d88bad79dc814f557c773a4728\n",
      "  Stored in directory: c:\\users\\heman\\appdata\\local\\pip\\cache\\wheels\\e6\\1c\\26\\d1b603062180ce80890567fb7e1e837db08bdea938aaea77f3\n",
      "Successfully built labelImg\n",
      "Installing collected packages: labelImg\n",
      "Successfully installed labelImg-1.8.6\n"
     ]
    }
   ],
   "source": [
    "!pip install labelImg"
   ]
  },
  {
   "cell_type": "code",
   "execution_count": 3,
   "id": "36c65f71-d368-459c-95ff-5a4d7e6a0071",
   "metadata": {},
   "outputs": [
    {
     "name": "stderr",
     "output_type": "stream",
     "text": [
      "QMimeDatabase: Error loading internal MIME data\n",
      "An error has been encountered at line 1 of <internal MIME data>: Premature end of document.:\n"
     ]
    }
   ],
   "source": [
    "!labelImg"
   ]
  },
  {
   "cell_type": "code",
   "execution_count": null,
   "id": "a5217d1e-57da-4d66-8f9f-624c2abef36b",
   "metadata": {},
   "outputs": [],
   "source": []
  },
  {
   "cell_type": "code",
   "execution_count": null,
   "id": "d58b6b83-9e79-472d-9183-2b0ab6dbcd4f",
   "metadata": {},
   "outputs": [],
   "source": []
  },
  {
   "cell_type": "code",
   "execution_count": 1,
   "id": "32c4a27d-a954-4394-8d00-24538153d9d3",
   "metadata": {},
   "outputs": [
    {
     "data": {
      "text/plain": [
       "'import shutil\\n\\n# Folder containing the extracted text line images\\noutput_folder = \"frame\"\\n\\n# Delete the folder and its contents\\nif os.path.exists(output_folder):\\n    shutil.rmtree(output_folder)\\n    print(f\"Deleted folder: {output_folder}\")\\nelse:\\n    print(f\"Folder not found: {output_folder}\")\\n    \\n'"
      ]
     },
     "execution_count": 1,
     "metadata": {},
     "output_type": "execute_result"
    }
   ],
   "source": [
    "'''import shutil\n",
    "\n",
    "# Folder containing the extracted text line images\n",
    "output_folder = \"frame\"\n",
    "\n",
    "# Delete the folder and its contents\n",
    "if os.path.exists(output_folder):\n",
    "    shutil.rmtree(output_folder)\n",
    "    print(f\"Deleted folder: {output_folder}\")\n",
    "else:\n",
    "    print(f\"Folder not found: {output_folder}\")\n",
    "    \n",
    "'''"
   ]
  },
  {
   "cell_type": "code",
   "execution_count": null,
   "id": "bc423eed-638d-4b53-a02c-7d320f9aa407",
   "metadata": {},
   "outputs": [],
   "source": []
  }
 ],
 "metadata": {
  "kernelspec": {
   "display_name": "Python 3 (ipykernel)",
   "language": "python",
   "name": "python3"
  },
  "language_info": {
   "codemirror_mode": {
    "name": "ipython",
    "version": 3
   },
   "file_extension": ".py",
   "mimetype": "text/x-python",
   "name": "python",
   "nbconvert_exporter": "python",
   "pygments_lexer": "ipython3",
   "version": "3.12.7"
  }
 },
 "nbformat": 4,
 "nbformat_minor": 5
}
